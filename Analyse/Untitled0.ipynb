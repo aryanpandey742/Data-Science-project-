{
  "nbformat": 4,
  "nbformat_minor": 0,
  "metadata": {
    "colab": {
      "provenance": [],
      "authorship_tag": "ABX9TyNRq4WTllT/zc6Hbr+ACblq",
      "include_colab_link": true
    },
    "kernelspec": {
      "name": "python3",
      "display_name": "Python 3"
    },
    "language_info": {
      "name": "python"
    }
  },
  "cells": [
    {
      "cell_type": "markdown",
      "metadata": {
        "id": "view-in-github",
        "colab_type": "text"
      },
      "source": [
        "<a href=\"https://colab.research.google.com/github/aryanpandey742/Data-Science-project-/blob/main/Untitled0.ipynb\" target=\"_parent\"><img src=\"https://colab.research.google.com/assets/colab-badge.svg\" alt=\"Open In Colab\"/></a>"
      ]
    },
    {
      "cell_type": "code",
      "execution_count": null,
      "metadata": {
        "id": "vhm59hCODbh2"
      },
      "outputs": [],
      "source": [
        "# inflation_analysis.py\n",
        "\n",
        "import pandas as pd\n",
        "import matplotlib.pyplot as plt\n",
        "import seaborn as sns\n",
        "\n",
        "# Load sample data\n",
        "data = {\n",
        "    'Year': list(range(2010, 2021)),\n",
        "    'Inflation_Rate': [9.6, 8.9, 9.3, 10.0, 6.7, 4.9, 4.5, 3.3, 3.9, 4.8, 6.2],\n",
        "    'GDP_Growth': [10.3, 6.6, 5.5, 6.4, 7.4, 8.0, 8.2, 7.0, 6.1, 4.2, 5.5]\n",
        "}\n",
        "df = pd.DataFrame(data)\n",
        "\n",
        "# Plot inflation vs GDP\n",
        "plt.figure(figsize=(8, 5))\n",
        "sns.lineplot(data=df, x='Year', y='Inflation_Rate', label='Inflation Rate', marker='o')\n",
        "sns.lineplot(data=df, x='Year', y='GDP_Growth', label='GDP Growth', marker='o')\n",
        "plt.title('Inflation vs GDP Growth (India, 2010–2020)')\n",
        "plt.ylabel('%')\n",
        "plt.legend()\n",
        "plt.grid(True)\n",
        "plt.tight_layout()\n",
        "plt.savefig(\"inflation_gdp_trend.png\")\n",
        "plt.show()\n",
        "\n",
        "# Correlation\n",
        "corr = df['Inflation_Rate'].corr(df['GDP_Growth'])\n",
        "print(f\"Correlation between inflation and GDP growth: {corr:.2f}\")"
      ]
    }
  ]
}
